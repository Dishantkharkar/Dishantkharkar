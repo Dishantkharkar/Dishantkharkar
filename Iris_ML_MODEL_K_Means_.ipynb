{
  "cells": [
    {
      "cell_type": "markdown",
      "metadata": {
        "id": "view-in-github",
        "colab_type": "text"
      },
      "source": [
        "<a href=\"https://colab.research.google.com/github/Dishantkharkar/Dishantkharkar/blob/main/Iris_ML_MODEL_K_Means_.ipynb\" target=\"_parent\"><img src=\"https://colab.research.google.com/assets/colab-badge.svg\" alt=\"Open In Colab\"/></a>"
      ]
    },
    {
      "cell_type": "markdown",
      "id": "52f86486",
      "metadata": {
        "id": "52f86486"
      },
      "source": [
        "# Problem Statement\n",
        "Using Iris data cluster iris flowers into differnt clusters based on similarity."
      ]
    },
    {
      "cell_type": "code",
      "execution_count": null,
      "id": "777b22ae",
      "metadata": {
        "id": "777b22ae"
      },
      "outputs": [],
      "source": [
        "# Import libraries\n",
        "import numpy as np\n",
        "import pandas as pd\n",
        "import seaborn as sns\n",
        "import matplotlib.pyplot as plt\n",
        "import warnings\n",
        "warnings.filterwarnings('ignore')"
      ]
    },
    {
      "cell_type": "code",
      "execution_count": null,
      "id": "f4432e5a",
      "metadata": {
        "id": "f4432e5a"
      },
      "outputs": [],
      "source": [
        "# Load data\n",
        "data=pd.read_csv('Iris.csv')"
      ]
    },
    {
      "cell_type": "code",
      "execution_count": null,
      "id": "f7a13fa5",
      "metadata": {
        "id": "f7a13fa5",
        "outputId": "962f4563-ff23-4682-94ad-66736d6b65ba"
      },
      "outputs": [
        {
          "data": {
            "text/html": [
              "<div>\n",
              "<style scoped>\n",
              "    .dataframe tbody tr th:only-of-type {\n",
              "        vertical-align: middle;\n",
              "    }\n",
              "\n",
              "    .dataframe tbody tr th {\n",
              "        vertical-align: top;\n",
              "    }\n",
              "\n",
              "    .dataframe thead th {\n",
              "        text-align: right;\n",
              "    }\n",
              "</style>\n",
              "<table border=\"1\" class=\"dataframe\">\n",
              "  <thead>\n",
              "    <tr style=\"text-align: right;\">\n",
              "      <th></th>\n",
              "      <th>Unnamed: 0</th>\n",
              "      <th>sepal_length</th>\n",
              "      <th>sepal_width</th>\n",
              "      <th>petal_length</th>\n",
              "      <th>petal_width</th>\n",
              "      <th>target</th>\n",
              "    </tr>\n",
              "  </thead>\n",
              "  <tbody>\n",
              "    <tr>\n",
              "      <th>0</th>\n",
              "      <td>0</td>\n",
              "      <td>5.1</td>\n",
              "      <td>3.5</td>\n",
              "      <td>1.4</td>\n",
              "      <td>0.2</td>\n",
              "      <td>0</td>\n",
              "    </tr>\n",
              "    <tr>\n",
              "      <th>1</th>\n",
              "      <td>1</td>\n",
              "      <td>4.9</td>\n",
              "      <td>3.0</td>\n",
              "      <td>1.4</td>\n",
              "      <td>0.2</td>\n",
              "      <td>0</td>\n",
              "    </tr>\n",
              "    <tr>\n",
              "      <th>2</th>\n",
              "      <td>2</td>\n",
              "      <td>4.7</td>\n",
              "      <td>3.2</td>\n",
              "      <td>1.3</td>\n",
              "      <td>0.2</td>\n",
              "      <td>0</td>\n",
              "    </tr>\n",
              "    <tr>\n",
              "      <th>3</th>\n",
              "      <td>3</td>\n",
              "      <td>4.6</td>\n",
              "      <td>3.1</td>\n",
              "      <td>1.5</td>\n",
              "      <td>0.2</td>\n",
              "      <td>0</td>\n",
              "    </tr>\n",
              "    <tr>\n",
              "      <th>4</th>\n",
              "      <td>4</td>\n",
              "      <td>5.0</td>\n",
              "      <td>3.6</td>\n",
              "      <td>1.4</td>\n",
              "      <td>0.2</td>\n",
              "      <td>0</td>\n",
              "    </tr>\n",
              "  </tbody>\n",
              "</table>\n",
              "</div>"
            ],
            "text/plain": [
              "   Unnamed: 0  sepal_length  sepal_width  petal_length  petal_width  target\n",
              "0           0           5.1          3.5           1.4          0.2       0\n",
              "1           1           4.9          3.0           1.4          0.2       0\n",
              "2           2           4.7          3.2           1.3          0.2       0\n",
              "3           3           4.6          3.1           1.5          0.2       0\n",
              "4           4           5.0          3.6           1.4          0.2       0"
            ]
          },
          "execution_count": 3,
          "metadata": {},
          "output_type": "execute_result"
        }
      ],
      "source": [
        "data.head()"
      ]
    },
    {
      "cell_type": "code",
      "execution_count": null,
      "id": "dce613a8",
      "metadata": {
        "id": "dce613a8"
      },
      "outputs": [],
      "source": [
        "# drop unnamed column\n",
        "data.drop('Unnamed: 0',axis=1,inplace=True)"
      ]
    },
    {
      "cell_type": "code",
      "execution_count": null,
      "id": "88e2e660",
      "metadata": {
        "id": "88e2e660",
        "outputId": "345effe6-8a54-432e-edf4-8b91d756babb"
      },
      "outputs": [
        {
          "data": {
            "text/html": [
              "<div>\n",
              "<style scoped>\n",
              "    .dataframe tbody tr th:only-of-type {\n",
              "        vertical-align: middle;\n",
              "    }\n",
              "\n",
              "    .dataframe tbody tr th {\n",
              "        vertical-align: top;\n",
              "    }\n",
              "\n",
              "    .dataframe thead th {\n",
              "        text-align: right;\n",
              "    }\n",
              "</style>\n",
              "<table border=\"1\" class=\"dataframe\">\n",
              "  <thead>\n",
              "    <tr style=\"text-align: right;\">\n",
              "      <th></th>\n",
              "      <th>sepal_length</th>\n",
              "      <th>sepal_width</th>\n",
              "      <th>petal_length</th>\n",
              "      <th>petal_width</th>\n",
              "      <th>target</th>\n",
              "    </tr>\n",
              "  </thead>\n",
              "  <tbody>\n",
              "    <tr>\n",
              "      <th>0</th>\n",
              "      <td>5.1</td>\n",
              "      <td>3.5</td>\n",
              "      <td>1.4</td>\n",
              "      <td>0.2</td>\n",
              "      <td>0</td>\n",
              "    </tr>\n",
              "    <tr>\n",
              "      <th>1</th>\n",
              "      <td>4.9</td>\n",
              "      <td>3.0</td>\n",
              "      <td>1.4</td>\n",
              "      <td>0.2</td>\n",
              "      <td>0</td>\n",
              "    </tr>\n",
              "    <tr>\n",
              "      <th>2</th>\n",
              "      <td>4.7</td>\n",
              "      <td>3.2</td>\n",
              "      <td>1.3</td>\n",
              "      <td>0.2</td>\n",
              "      <td>0</td>\n",
              "    </tr>\n",
              "    <tr>\n",
              "      <th>3</th>\n",
              "      <td>4.6</td>\n",
              "      <td>3.1</td>\n",
              "      <td>1.5</td>\n",
              "      <td>0.2</td>\n",
              "      <td>0</td>\n",
              "    </tr>\n",
              "    <tr>\n",
              "      <th>4</th>\n",
              "      <td>5.0</td>\n",
              "      <td>3.6</td>\n",
              "      <td>1.4</td>\n",
              "      <td>0.2</td>\n",
              "      <td>0</td>\n",
              "    </tr>\n",
              "  </tbody>\n",
              "</table>\n",
              "</div>"
            ],
            "text/plain": [
              "   sepal_length  sepal_width  petal_length  petal_width  target\n",
              "0           5.1          3.5           1.4          0.2       0\n",
              "1           4.9          3.0           1.4          0.2       0\n",
              "2           4.7          3.2           1.3          0.2       0\n",
              "3           4.6          3.1           1.5          0.2       0\n",
              "4           5.0          3.6           1.4          0.2       0"
            ]
          },
          "execution_count": 5,
          "metadata": {},
          "output_type": "execute_result"
        }
      ],
      "source": [
        "data.head()"
      ]
    },
    {
      "cell_type": "markdown",
      "id": "bf0efe68",
      "metadata": {
        "id": "bf0efe68"
      },
      "source": [
        "## Basic Checks"
      ]
    },
    {
      "cell_type": "code",
      "execution_count": null,
      "id": "467dd16f",
      "metadata": {
        "id": "467dd16f",
        "outputId": "6241e960-83e6-4407-a834-800ffde0ccc4"
      },
      "outputs": [
        {
          "data": {
            "text/plain": [
              "(150, 5)"
            ]
          },
          "execution_count": 6,
          "metadata": {},
          "output_type": "execute_result"
        }
      ],
      "source": [
        "data.shape"
      ]
    },
    {
      "cell_type": "code",
      "execution_count": null,
      "id": "ffa709dc",
      "metadata": {
        "id": "ffa709dc",
        "outputId": "4bab0c1d-fc4e-4e48-9746-aa8ab7823365"
      },
      "outputs": [
        {
          "data": {
            "text/html": [
              "<div>\n",
              "<style scoped>\n",
              "    .dataframe tbody tr th:only-of-type {\n",
              "        vertical-align: middle;\n",
              "    }\n",
              "\n",
              "    .dataframe tbody tr th {\n",
              "        vertical-align: top;\n",
              "    }\n",
              "\n",
              "    .dataframe thead th {\n",
              "        text-align: right;\n",
              "    }\n",
              "</style>\n",
              "<table border=\"1\" class=\"dataframe\">\n",
              "  <thead>\n",
              "    <tr style=\"text-align: right;\">\n",
              "      <th></th>\n",
              "      <th>sepal_length</th>\n",
              "      <th>sepal_width</th>\n",
              "      <th>petal_length</th>\n",
              "      <th>petal_width</th>\n",
              "      <th>target</th>\n",
              "    </tr>\n",
              "  </thead>\n",
              "  <tbody>\n",
              "    <tr>\n",
              "      <th>count</th>\n",
              "      <td>150.000000</td>\n",
              "      <td>150.000000</td>\n",
              "      <td>150.000000</td>\n",
              "      <td>150.000000</td>\n",
              "      <td>150.000000</td>\n",
              "    </tr>\n",
              "    <tr>\n",
              "      <th>mean</th>\n",
              "      <td>5.843333</td>\n",
              "      <td>3.054000</td>\n",
              "      <td>3.758667</td>\n",
              "      <td>1.198667</td>\n",
              "      <td>1.000000</td>\n",
              "    </tr>\n",
              "    <tr>\n",
              "      <th>std</th>\n",
              "      <td>0.828066</td>\n",
              "      <td>0.433594</td>\n",
              "      <td>1.764420</td>\n",
              "      <td>0.763161</td>\n",
              "      <td>0.819232</td>\n",
              "    </tr>\n",
              "    <tr>\n",
              "      <th>min</th>\n",
              "      <td>4.300000</td>\n",
              "      <td>2.000000</td>\n",
              "      <td>1.000000</td>\n",
              "      <td>0.100000</td>\n",
              "      <td>0.000000</td>\n",
              "    </tr>\n",
              "    <tr>\n",
              "      <th>25%</th>\n",
              "      <td>5.100000</td>\n",
              "      <td>2.800000</td>\n",
              "      <td>1.600000</td>\n",
              "      <td>0.300000</td>\n",
              "      <td>0.000000</td>\n",
              "    </tr>\n",
              "    <tr>\n",
              "      <th>50%</th>\n",
              "      <td>5.800000</td>\n",
              "      <td>3.000000</td>\n",
              "      <td>4.350000</td>\n",
              "      <td>1.300000</td>\n",
              "      <td>1.000000</td>\n",
              "    </tr>\n",
              "    <tr>\n",
              "      <th>75%</th>\n",
              "      <td>6.400000</td>\n",
              "      <td>3.300000</td>\n",
              "      <td>5.100000</td>\n",
              "      <td>1.800000</td>\n",
              "      <td>2.000000</td>\n",
              "    </tr>\n",
              "    <tr>\n",
              "      <th>max</th>\n",
              "      <td>7.900000</td>\n",
              "      <td>4.400000</td>\n",
              "      <td>6.900000</td>\n",
              "      <td>2.500000</td>\n",
              "      <td>2.000000</td>\n",
              "    </tr>\n",
              "  </tbody>\n",
              "</table>\n",
              "</div>"
            ],
            "text/plain": [
              "       sepal_length  sepal_width  petal_length  petal_width      target\n",
              "count    150.000000   150.000000    150.000000   150.000000  150.000000\n",
              "mean       5.843333     3.054000      3.758667     1.198667    1.000000\n",
              "std        0.828066     0.433594      1.764420     0.763161    0.819232\n",
              "min        4.300000     2.000000      1.000000     0.100000    0.000000\n",
              "25%        5.100000     2.800000      1.600000     0.300000    0.000000\n",
              "50%        5.800000     3.000000      4.350000     1.300000    1.000000\n",
              "75%        6.400000     3.300000      5.100000     1.800000    2.000000\n",
              "max        7.900000     4.400000      6.900000     2.500000    2.000000"
            ]
          },
          "execution_count": 7,
          "metadata": {},
          "output_type": "execute_result"
        }
      ],
      "source": [
        "data.describe()"
      ]
    },
    {
      "cell_type": "code",
      "execution_count": null,
      "id": "9ae2ade6",
      "metadata": {
        "id": "9ae2ade6",
        "outputId": "42c7c355-c8e7-4739-a01c-1d9539fcfadf"
      },
      "outputs": [
        {
          "data": {
            "text/plain": [
              "array([0, 1, 2], dtype=int64)"
            ]
          },
          "execution_count": 8,
          "metadata": {},
          "output_type": "execute_result"
        }
      ],
      "source": [
        "data.target.unique()"
      ]
    },
    {
      "cell_type": "code",
      "execution_count": null,
      "id": "3802d773",
      "metadata": {
        "id": "3802d773",
        "outputId": "190627e4-f5ae-43ac-e379-c6546faf3653"
      },
      "outputs": [
        {
          "data": {
            "text/plain": [
              "sepal_length    float64\n",
              "sepal_width     float64\n",
              "petal_length    float64\n",
              "petal_width     float64\n",
              "target            int64\n",
              "dtype: object"
            ]
          },
          "execution_count": 9,
          "metadata": {},
          "output_type": "execute_result"
        }
      ],
      "source": [
        "data.dtypes"
      ]
    },
    {
      "cell_type": "code",
      "execution_count": null,
      "id": "3dae59eb",
      "metadata": {
        "id": "3dae59eb",
        "outputId": "b5a1abc2-91fd-4d0b-aebd-e018f2982432"
      },
      "outputs": [
        {
          "name": "stdout",
          "output_type": "stream",
          "text": [
            "<class 'pandas.core.frame.DataFrame'>\n",
            "RangeIndex: 150 entries, 0 to 149\n",
            "Data columns (total 5 columns):\n",
            " #   Column        Non-Null Count  Dtype  \n",
            "---  ------        --------------  -----  \n",
            " 0   sepal_length  150 non-null    float64\n",
            " 1   sepal_width   150 non-null    float64\n",
            " 2   petal_length  150 non-null    float64\n",
            " 3   petal_width   150 non-null    float64\n",
            " 4   target        150 non-null    int64  \n",
            "dtypes: float64(4), int64(1)\n",
            "memory usage: 6.0 KB\n"
          ]
        }
      ],
      "source": [
        "data.info()"
      ]
    },
    {
      "cell_type": "code",
      "execution_count": null,
      "id": "bd331e3a",
      "metadata": {
        "id": "bd331e3a",
        "outputId": "b46ebd34-6481-49af-d59d-8672702cce2e"
      },
      "outputs": [
        {
          "data": {
            "text/plain": [
              "<AxesSubplot:xlabel='petal_length', ylabel='petal_width'>"
            ]
          },
          "execution_count": 11,
          "metadata": {},
          "output_type": "execute_result"
        },
        {
          "data": {
            "image/png": "[encoded data removed]",
            "text/plain": [
              "<Figure size 300x300 with 1 Axes>"
            ]
          },
          "metadata": {},
          "output_type": "display_data"
        }
      ],
      "source": [
        "# EDA\n",
        "plt.figure(figsize=(3,3))\n",
        "sns.scatterplot(data=data,x='petal_length',y='petal_width',hue='target')"
      ]
    },
    {
      "cell_type": "markdown",
      "id": "3b6b44d0",
      "metadata": {
        "id": "3b6b44d0"
      },
      "source": [
        "# Data Preprocessing"
      ]
    },
    {
      "cell_type": "code",
      "execution_count": null,
      "id": "cdb65f39",
      "metadata": {
        "id": "cdb65f39",
        "outputId": "d1b818e1-d4a5-41b7-d6cb-8509d86c6a3f"
      },
      "outputs": [
        {
          "data": {
            "text/plain": [
              "sepal_length    0\n",
              "sepal_width     0\n",
              "petal_length    0\n",
              "petal_width     0\n",
              "target          0\n",
              "dtype: int64"
            ]
          },
          "execution_count": 12,
          "metadata": {},
          "output_type": "execute_result"
        }
      ],
      "source": [
        "# check for missing values\n",
        "data.isnull().sum()"
      ]
    },
    {
      "cell_type": "code",
      "execution_count": null,
      "id": "f9fce466",
      "metadata": {
        "id": "f9fce466",
        "outputId": "56d8d428-8790-435b-cf49-92425a73a106"
      },
      "outputs": [
        {
          "data": {
            "text/plain": [
              "3"
            ]
          },
          "execution_count": 13,
          "metadata": {},
          "output_type": "execute_result"
        }
      ],
      "source": [
        "# check for duplictes\n",
        "data.duplicated().sum()"
      ]
    },
    {
      "cell_type": "markdown",
      "id": "5ce5b893",
      "metadata": {
        "id": "5ce5b893"
      },
      "source": [
        "# check for outliers"
      ]
    },
    {
      "cell_type": "code",
      "execution_count": null,
      "id": "0aa6ee92",
      "metadata": {
        "id": "0aa6ee92",
        "outputId": "d7f8e016-e2f7-4348-e05e-d7c35271514c"
      },
      "outputs": [
        {
          "data": {
            "image/png": "[encoded data removed]",
            "text/plain": [
              "<Figure size 600x600 with 4 Axes>"
            ]
          },
          "metadata": {},
          "output_type": "display_data"
        }
      ],
      "source": [
        "plt.figure(figsize=(6,6),facecolor='white')\n",
        "plotnumber=1\n",
        "for column in data.drop('target',axis=1):\n",
        "    if plotnumber<=4:\n",
        "        ax=plt.subplot(2,2,plotnumber)\n",
        "        sns.boxplot(x=data[column])\n",
        "        plt.xlabel(column,fontsize=10)\n",
        "        plt.ylabel(\"count\",fontsize=10)\n",
        "    plotnumber+=1\n",
        "plt.tight_layout()   "
      ]
    },
    {
      "cell_type": "code",
      "execution_count": null,
      "id": "5d9a0f37",
      "metadata": {
        "id": "5d9a0f37",
        "outputId": "57c5ec79-1e44-467b-9a17-061fb6927c24"
      },
      "outputs": [
        {
          "data": {
            "text/plain": [
              "<AxesSubplot:xlabel='sepal_width', ylabel='Count'>"
            ]
          },
          "execution_count": 15,
          "metadata": {},
          "output_type": "execute_result"
        },
        {
          "data": {
            "image/png": "[encoded data removed]",
            "text/plain": [
              "<Figure size 640x480 with 1 Axes>"
            ]
          },
          "metadata": {},
          "output_type": "display_data"
        }
      ],
      "source": [
        "sns.histplot(data=data,x='sepal_width',kde=True)"
      ]
    },
    {
      "cell_type": "markdown",
      "id": "379c0ce5",
      "metadata": {
        "id": "379c0ce5"
      },
      "source": [
        "### Insights\n",
        "* It shows Normal distribution in sepal_width column, then we use 3-sigma rule to identified outliers\n",
        "* Replace Outliers with mean since data is Normal"
      ]
    },
    {
      "cell_type": "markdown",
      "id": "da0f14aa",
      "metadata": {
        "id": "da0f14aa"
      },
      "source": [
        "#### 3-sigma Rule"
      ]
    },
    {
      "cell_type": "code",
      "execution_count": null,
      "id": "1d2e6eb1",
      "metadata": {
        "id": "1d2e6eb1",
        "outputId": "66d97edd-e858-483b-83e2-9ac7e796bc60"
      },
      "outputs": [
        {
          "name": "stdout",
          "output_type": "stream",
          "text": [
            "lower limit 1.7532170659134796\n",
            "upper limit 4.354782934086522\n"
          ]
        }
      ],
      "source": [
        "low_limit=data['sepal_width'].mean()-3*data['sepal_width'].std()\n",
        "upper_limit=data['sepal_width'].mean()+3*data['sepal_width'].std()\n",
        "print('lower limit',low_limit)\n",
        "print('upper limit',upper_limit)"
      ]
    },
    {
      "cell_type": "code",
      "execution_count": null,
      "id": "c7da4241",
      "metadata": {
        "id": "c7da4241",
        "outputId": "0ca84169-bbff-4ada-fcba-cef9b1139c09"
      },
      "outputs": [
        {
          "data": {
            "text/html": [
              "<div>\n",
              "<style scoped>\n",
              "    .dataframe tbody tr th:only-of-type {\n",
              "        vertical-align: middle;\n",
              "    }\n",
              "\n",
              "    .dataframe tbody tr th {\n",
              "        vertical-align: top;\n",
              "    }\n",
              "\n",
              "    .dataframe thead th {\n",
              "        text-align: right;\n",
              "    }\n",
              "</style>\n",
              "<table border=\"1\" class=\"dataframe\">\n",
              "  <thead>\n",
              "    <tr style=\"text-align: right;\">\n",
              "      <th></th>\n",
              "      <th>sepal_length</th>\n",
              "      <th>sepal_width</th>\n",
              "      <th>petal_length</th>\n",
              "      <th>petal_width</th>\n",
              "      <th>target</th>\n",
              "    </tr>\n",
              "  </thead>\n",
              "  <tbody>\n",
              "  </tbody>\n",
              "</table>\n",
              "</div>"
            ],
            "text/plain": [
              "Empty DataFrame\n",
              "Columns: [sepal_length, sepal_width, petal_length, petal_width, target]\n",
              "Index: []"
            ]
          },
          "execution_count": 17,
          "metadata": {},
          "output_type": "execute_result"
        }
      ],
      "source": [
        "# find values less than lower limit\n",
        "data.loc[data['sepal_width']<low_limit]"
      ]
    },
    {
      "cell_type": "code",
      "execution_count": null,
      "id": "797042e1",
      "metadata": {
        "id": "797042e1",
        "outputId": "f4f8a210-3683-4130-cdd0-01bb626551e6"
      },
      "outputs": [
        {
          "data": {
            "text/html": [
              "<div>\n",
              "<style scoped>\n",
              "    .dataframe tbody tr th:only-of-type {\n",
              "        vertical-align: middle;\n",
              "    }\n",
              "\n",
              "    .dataframe tbody tr th {\n",
              "        vertical-align: top;\n",
              "    }\n",
              "\n",
              "    .dataframe thead th {\n",
              "        text-align: right;\n",
              "    }\n",
              "</style>\n",
              "<table border=\"1\" class=\"dataframe\">\n",
              "  <thead>\n",
              "    <tr style=\"text-align: right;\">\n",
              "      <th></th>\n",
              "      <th>sepal_length</th>\n",
              "      <th>sepal_width</th>\n",
              "      <th>petal_length</th>\n",
              "      <th>petal_width</th>\n",
              "      <th>target</th>\n",
              "    </tr>\n",
              "  </thead>\n",
              "  <tbody>\n",
              "    <tr>\n",
              "      <th>15</th>\n",
              "      <td>5.7</td>\n",
              "      <td>4.4</td>\n",
              "      <td>1.5</td>\n",
              "      <td>0.4</td>\n",
              "      <td>0</td>\n",
              "    </tr>\n",
              "  </tbody>\n",
              "</table>\n",
              "</div>"
            ],
            "text/plain": [
              "    sepal_length  sepal_width  petal_length  petal_width  target\n",
              "15           5.7          4.4           1.5          0.4       0"
            ]
          },
          "execution_count": 18,
          "metadata": {},
          "output_type": "execute_result"
        }
      ],
      "source": [
        "# find values greater than upper limit\n",
        "data.loc[data[\"sepal_width\"]>upper_limit]"
      ]
    },
    {
      "cell_type": "code",
      "execution_count": null,
      "id": "cd6bbc7a",
      "metadata": {
        "id": "cd6bbc7a"
      },
      "outputs": [],
      "source": [
        "# replace outlier with mean\n",
        "data.loc[data['sepal_width']>upper_limit,'sepal_width']=data['sepal_width'].mean()"
      ]
    },
    {
      "cell_type": "code",
      "execution_count": null,
      "id": "eea3d1fe",
      "metadata": {
        "id": "eea3d1fe",
        "outputId": "40ff58e5-da11-4ebd-ce8e-97e17a19c97f"
      },
      "outputs": [
        {
          "data": {
            "text/plain": [
              "<AxesSubplot:xlabel='sepal_width'>"
            ]
          },
          "execution_count": 20,
          "metadata": {},
          "output_type": "execute_result"
        },
        {
          "data": {
            "image/png": "[encoded data removed]",
            "text/plain": [
              "<Figure size 640x480 with 1 Axes>"
            ]
          },
          "metadata": {},
          "output_type": "display_data"
        }
      ],
      "source": [
        "sns.boxplot(data=data,x='sepal_width')"
      ]
    },
    {
      "cell_type": "markdown",
      "id": "a8f36dff",
      "metadata": {
        "id": "a8f36dff"
      },
      "source": [
        "### Apply Scaling"
      ]
    },
    {
      "cell_type": "code",
      "execution_count": null,
      "id": "ffd8b42b",
      "metadata": {
        "id": "ffd8b42b"
      },
      "outputs": [],
      "source": [
        "from sklearn.preprocessing import StandardScaler\n",
        "scaling=StandardScaler()\n",
        "data[['sepal_length', 'sepal_width', 'petal_length', 'petal_width']]=scaling.fit_transform(data[['sepal_length', 'sepal_width', 'petal_length', 'petal_width']])"
      ]
    },
    {
      "cell_type": "code",
      "execution_count": null,
      "id": "4ea207cf",
      "metadata": {
        "id": "4ea207cf",
        "outputId": "88235f43-e3b4-4ddf-b919-52469c97fbd7"
      },
      "outputs": [
        {
          "data": {
            "text/html": [
              "<div>\n",
              "<style scoped>\n",
              "    .dataframe tbody tr th:only-of-type {\n",
              "        vertical-align: middle;\n",
              "    }\n",
              "\n",
              "    .dataframe tbody tr th {\n",
              "        vertical-align: top;\n",
              "    }\n",
              "\n",
              "    .dataframe thead th {\n",
              "        text-align: right;\n",
              "    }\n",
              "</style>\n",
              "<table border=\"1\" class=\"dataframe\">\n",
              "  <thead>\n",
              "    <tr style=\"text-align: right;\">\n",
              "      <th></th>\n",
              "      <th>sepal_length</th>\n",
              "      <th>sepal_width</th>\n",
              "      <th>petal_length</th>\n",
              "      <th>petal_width</th>\n",
              "      <th>target</th>\n",
              "    </tr>\n",
              "  </thead>\n",
              "  <tbody>\n",
              "    <tr>\n",
              "      <th>0</th>\n",
              "      <td>-0.900681</td>\n",
              "      <td>1.088864</td>\n",
              "      <td>-1.341272</td>\n",
              "      <td>-1.312977</td>\n",
              "      <td>0</td>\n",
              "    </tr>\n",
              "    <tr>\n",
              "      <th>1</th>\n",
              "      <td>-1.143017</td>\n",
              "      <td>-0.107760</td>\n",
              "      <td>-1.341272</td>\n",
              "      <td>-1.312977</td>\n",
              "      <td>0</td>\n",
              "    </tr>\n",
              "    <tr>\n",
              "      <th>2</th>\n",
              "      <td>-1.385353</td>\n",
              "      <td>0.370890</td>\n",
              "      <td>-1.398138</td>\n",
              "      <td>-1.312977</td>\n",
              "      <td>0</td>\n",
              "    </tr>\n",
              "    <tr>\n",
              "      <th>3</th>\n",
              "      <td>-1.506521</td>\n",
              "      <td>0.131565</td>\n",
              "      <td>-1.284407</td>\n",
              "      <td>-1.312977</td>\n",
              "      <td>0</td>\n",
              "    </tr>\n",
              "    <tr>\n",
              "      <th>4</th>\n",
              "      <td>-1.021849</td>\n",
              "      <td>1.328189</td>\n",
              "      <td>-1.341272</td>\n",
              "      <td>-1.312977</td>\n",
              "      <td>0</td>\n",
              "    </tr>\n",
              "  </tbody>\n",
              "</table>\n",
              "</div>"
            ],
            "text/plain": [
              "   sepal_length  sepal_width  petal_length  petal_width  target\n",
              "0     -0.900681     1.088864     -1.341272    -1.312977       0\n",
              "1     -1.143017    -0.107760     -1.341272    -1.312977       0\n",
              "2     -1.385353     0.370890     -1.398138    -1.312977       0\n",
              "3     -1.506521     0.131565     -1.284407    -1.312977       0\n",
              "4     -1.021849     1.328189     -1.341272    -1.312977       0"
            ]
          },
          "execution_count": 22,
          "metadata": {},
          "output_type": "execute_result"
        }
      ],
      "source": [
        "data.head()"
      ]
    },
    {
      "cell_type": "code",
      "execution_count": null,
      "id": "6bf2549b",
      "metadata": {
        "id": "6bf2549b"
      },
      "outputs": [],
      "source": [
        "# Remove target from data\n",
        "x=data.drop('target',axis=1)\n",
        "# for only input "
      ]
    },
    {
      "cell_type": "code",
      "execution_count": null,
      "id": "82da7607",
      "metadata": {
        "id": "82da7607",
        "outputId": "74209f70-0649-4ccc-ffc6-e4e9883d3f70"
      },
      "outputs": [
        {
          "data": {
            "text/html": [
              "<div>\n",
              "<style scoped>\n",
              "    .dataframe tbody tr th:only-of-type {\n",
              "        vertical-align: middle;\n",
              "    }\n",
              "\n",
              "    .dataframe tbody tr th {\n",
              "        vertical-align: top;\n",
              "    }\n",
              "\n",
              "    .dataframe thead th {\n",
              "        text-align: right;\n",
              "    }\n",
              "</style>\n",
              "<table border=\"1\" class=\"dataframe\">\n",
              "  <thead>\n",
              "    <tr style=\"text-align: right;\">\n",
              "      <th></th>\n",
              "      <th>sepal_length</th>\n",
              "      <th>sepal_width</th>\n",
              "      <th>petal_length</th>\n",
              "      <th>petal_width</th>\n",
              "    </tr>\n",
              "  </thead>\n",
              "  <tbody>\n",
              "    <tr>\n",
              "      <th>0</th>\n",
              "      <td>-0.900681</td>\n",
              "      <td>1.088864</td>\n",
              "      <td>-1.341272</td>\n",
              "      <td>-1.312977</td>\n",
              "    </tr>\n",
              "    <tr>\n",
              "      <th>1</th>\n",
              "      <td>-1.143017</td>\n",
              "      <td>-0.107760</td>\n",
              "      <td>-1.341272</td>\n",
              "      <td>-1.312977</td>\n",
              "    </tr>\n",
              "    <tr>\n",
              "      <th>2</th>\n",
              "      <td>-1.385353</td>\n",
              "      <td>0.370890</td>\n",
              "      <td>-1.398138</td>\n",
              "      <td>-1.312977</td>\n",
              "    </tr>\n",
              "    <tr>\n",
              "      <th>3</th>\n",
              "      <td>-1.506521</td>\n",
              "      <td>0.131565</td>\n",
              "      <td>-1.284407</td>\n",
              "      <td>-1.312977</td>\n",
              "    </tr>\n",
              "    <tr>\n",
              "      <th>4</th>\n",
              "      <td>-1.021849</td>\n",
              "      <td>1.328189</td>\n",
              "      <td>-1.341272</td>\n",
              "      <td>-1.312977</td>\n",
              "    </tr>\n",
              "    <tr>\n",
              "      <th>...</th>\n",
              "      <td>...</td>\n",
              "      <td>...</td>\n",
              "      <td>...</td>\n",
              "      <td>...</td>\n",
              "    </tr>\n",
              "    <tr>\n",
              "      <th>145</th>\n",
              "      <td>1.038005</td>\n",
              "      <td>-0.107760</td>\n",
              "      <td>0.819624</td>\n",
              "      <td>1.447956</td>\n",
              "    </tr>\n",
              "    <tr>\n",
              "      <th>146</th>\n",
              "      <td>0.553333</td>\n",
              "      <td>-1.304384</td>\n",
              "      <td>0.705893</td>\n",
              "      <td>0.922064</td>\n",
              "    </tr>\n",
              "    <tr>\n",
              "      <th>147</th>\n",
              "      <td>0.795669</td>\n",
              "      <td>-0.107760</td>\n",
              "      <td>0.819624</td>\n",
              "      <td>1.053537</td>\n",
              "    </tr>\n",
              "    <tr>\n",
              "      <th>148</th>\n",
              "      <td>0.432165</td>\n",
              "      <td>0.849539</td>\n",
              "      <td>0.933356</td>\n",
              "      <td>1.447956</td>\n",
              "    </tr>\n",
              "    <tr>\n",
              "      <th>149</th>\n",
              "      <td>0.068662</td>\n",
              "      <td>-0.107760</td>\n",
              "      <td>0.762759</td>\n",
              "      <td>0.790591</td>\n",
              "    </tr>\n",
              "  </tbody>\n",
              "</table>\n",
              "<p>150 rows × 4 columns</p>\n",
              "</div>"
            ],
            "text/plain": [
              "     sepal_length  sepal_width  petal_length  petal_width\n",
              "0       -0.900681     1.088864     -1.341272    -1.312977\n",
              "1       -1.143017    -0.107760     -1.341272    -1.312977\n",
              "2       -1.385353     0.370890     -1.398138    -1.312977\n",
              "3       -1.506521     0.131565     -1.284407    -1.312977\n",
              "4       -1.021849     1.328189     -1.341272    -1.312977\n",
              "..            ...          ...           ...          ...\n",
              "145      1.038005    -0.107760      0.819624     1.447956\n",
              "146      0.553333    -1.304384      0.705893     0.922064\n",
              "147      0.795669    -0.107760      0.819624     1.053537\n",
              "148      0.432165     0.849539      0.933356     1.447956\n",
              "149      0.068662    -0.107760      0.762759     0.790591\n",
              "\n",
              "[150 rows x 4 columns]"
            ]
          },
          "execution_count": 24,
          "metadata": {},
          "output_type": "execute_result"
        }
      ],
      "source": [
        "x"
      ]
    },
    {
      "cell_type": "markdown",
      "id": "df53962f",
      "metadata": {
        "id": "df53962f"
      },
      "source": [
        "## Apply K-Mean Model"
      ]
    },
    {
      "cell_type": "code",
      "execution_count": null,
      "id": "bff3ca3a",
      "metadata": {
        "id": "bff3ca3a",
        "outputId": "130e3404-ec8b-4160-cdfd-11477fa06f79"
      },
      "outputs": [
        {
          "data": {
            "text/plain": [
              "KMeans(n_clusters=6, random_state=10)"
            ]
          },
          "execution_count": 25,
          "metadata": {},
          "output_type": "execute_result"
        }
      ],
      "source": [
        "# import kmean model\n",
        "from sklearn.cluster import KMeans\n",
        "# Initialize the model\n",
        "model=KMeans(n_clusters=6,random_state=10)\n",
        "# Train a model\n",
        "model.fit(x)"
      ]
    },
    {
      "cell_type": "code",
      "execution_count": null,
      "id": "e2a86e53",
      "metadata": {
        "id": "e2a86e53",
        "outputId": "e7fcdb30-7bfc-4e38-fb0f-2d2b41cce26d"
      },
      "outputs": [
        {
          "data": {
            "text/plain": [
              "array([[ 8.62520255e-01,  2.30595812e-01,  8.54920301e-01,\n",
              "         1.05353673e+00],\n",
              "       [-7.92495572e-01,  1.41366221e+00, -1.28643762e+00,\n",
              "        -1.22376293e+00],\n",
              "       [-3.64080601e-01, -1.44114126e+00,  1.07449102e-01,\n",
              "         1.75297293e-03],\n",
              "       [-1.29723056e+00,  8.30471707e-02, -1.32834838e+00,\n",
              "        -1.29504859e+00],\n",
              "       [ 2.53602227e-01, -5.29727484e-01,  5.48764020e-01,\n",
              "         4.93046703e-01],\n",
              "       [ 1.97705575e+00,  1.91396054e-01,  1.44514709e+00,\n",
              "         1.11927322e+00]])"
            ]
          },
          "execution_count": 26,
          "metadata": {},
          "output_type": "execute_result"
        }
      ],
      "source": [
        "# Centroids-cluster centers\n",
        "# no. of clusters=no. of centroids\n",
        "model.cluster_centers_"
      ]
    },
    {
      "cell_type": "code",
      "execution_count": null,
      "id": "e3df756a",
      "metadata": {
        "id": "e3df756a",
        "outputId": "090f6076-80a3-4bea-cba9-954f5866b50e"
      },
      "outputs": [
        {
          "data": {
            "text/plain": [
              "array([1, 3, 3, 3, 1, 1, 3, 1, 3, 3, 1, 1, 3, 3, 1, 3, 1, 1, 1, 1, 1, 1,\n",
              "       1, 3, 1, 3, 1, 1, 1, 3, 3, 1, 1, 1, 3, 3, 1, 3, 3, 1, 1, 3, 3, 1,\n",
              "       1, 3, 1, 3, 1, 3, 0, 0, 0, 2, 4, 4, 0, 2, 4, 2, 2, 4, 2, 4, 4, 0,\n",
              "       4, 2, 2, 2, 0, 4, 4, 4, 4, 4, 4, 0, 4, 2, 2, 2, 2, 4, 4, 0, 0, 2,\n",
              "       4, 2, 2, 4, 2, 2, 2, 4, 4, 4, 2, 4, 0, 4, 5, 4, 0, 5, 2, 5, 4, 5,\n",
              "       0, 4, 0, 4, 4, 0, 0, 5, 5, 2, 0, 4, 5, 4, 0, 5, 4, 4, 0, 5, 5, 5,\n",
              "       0, 4, 4, 5, 0, 0, 4, 0, 0, 0, 4, 0, 0, 0, 4, 0, 0, 4])"
            ]
          },
          "execution_count": 27,
          "metadata": {},
          "output_type": "execute_result"
        }
      ],
      "source": [
        "model.labels_"
      ]
    },
    {
      "cell_type": "code",
      "execution_count": null,
      "id": "355ae417",
      "metadata": {
        "id": "355ae417",
        "outputId": "95243467-cb79-4cc2-de46-682563efb310"
      },
      "outputs": [
        {
          "data": {
            "text/plain": [
              "<matplotlib.collections.PathCollection at 0x1ab5f1a1940>"
            ]
          },
          "execution_count": 28,
          "metadata": {},
          "output_type": "execute_result"
        },
        {
          "data": {
            "image/png": "[encoded data removed]",
            "text/plain": [
              "<Figure size 640x480 with 1 Axes>"
            ]
          },
          "metadata": {},
          "output_type": "display_data"
        }
      ],
      "source": [
        "# visualize the clusters created by model\n",
        "color_schema=np.array(['red','green','black','orange','blue','pink'])\n",
        "plt.scatter(data.petal_length,data.petal_width,color=color_schema[model.labels_])"
      ]
    },
    {
      "cell_type": "code",
      "execution_count": null,
      "id": "d64a2670",
      "metadata": {
        "id": "d64a2670"
      },
      "outputs": [],
      "source": [
        "data['labels']=pd.DataFrame(model.labels_)"
      ]
    },
    {
      "cell_type": "code",
      "execution_count": null,
      "id": "3bed5d49",
      "metadata": {
        "id": "3bed5d49",
        "outputId": "b97d1fb3-a9c5-4923-9241-179d228c798f"
      },
      "outputs": [
        {
          "data": {
            "text/plain": [
              "0.3303281700316024"
            ]
          },
          "execution_count": 30,
          "metadata": {},
          "output_type": "execute_result"
        }
      ],
      "source": [
        "from sklearn.metrics import silhouette_score\n",
        "silhouette_score(x,model.labels_)"
      ]
    },
    {
      "cell_type": "markdown",
      "id": "f48cc69f",
      "metadata": {
        "id": "f48cc69f"
      },
      "source": [
        "* We see overlapping of cluster beacase number of cluster that we have chosen might be wrong"
      ]
    },
    {
      "cell_type": "markdown",
      "id": "23ff9f49",
      "metadata": {
        "id": "23ff9f49"
      },
      "source": [
        "## How To find optimal value for k?¶\n",
        "#### Elbow Method\n"
      ]
    },
    {
      "cell_type": "code",
      "execution_count": null,
      "id": "48eae978",
      "metadata": {
        "id": "48eae978",
        "outputId": "b06dbd41-5665-4bab-f175-c362a0911918"
      },
      "outputs": [
        {
          "data": {
            "text/plain": [
              "Text(0, 0.5, 'WCSS')"
            ]
          },
          "execution_count": 34,
          "metadata": {},
          "output_type": "execute_result"
        },
        {
          "data": {
            "image/png": "[encoded data removed]",
            "text/plain": [
              "<Figure size 640x480 with 1 Axes>"
            ]
          },
          "metadata": {},
          "output_type": "display_data"
        }
      ],
      "source": [
        "WCSS=[]\n",
        "for i in range(2,11):\n",
        "    model=KMeans(n_clusters=i,random_state=20)\n",
        "    model.fit(x)\n",
        "    WCSS.append(model.inertia_)\n",
        "plt.plot(range(2,11),WCSS)\n",
        "plt.title('Elbow curve')\n",
        "plt.xlabel('no of cluster(k)')\n",
        "plt.ylabel('WCSS')\n"
      ]
    },
    {
      "cell_type": "markdown",
      "id": "74e434fb",
      "metadata": {
        "id": "74e434fb"
      },
      "source": [
        "* From above graph optimal/Elbow point at 3\n",
        "* therefore we use k=3\n"
      ]
    },
    {
      "cell_type": "code",
      "execution_count": null,
      "id": "1652fa66",
      "metadata": {
        "id": "1652fa66",
        "outputId": "81859873-50ac-46d4-ab14-feb383b243f8"
      },
      "outputs": [
        {
          "data": {
            "text/plain": [
              "[225.50046206211442,\n",
              " 141.06688377407846,\n",
              " 114.82880681387994,\n",
              " 92.15342859045302,\n",
              " 82.29541504498772,\n",
              " 72.74855093311186,\n",
              " 63.86535212246592,\n",
              " 55.48098553300095,\n",
              " 48.709326122664]"
            ]
          },
          "execution_count": 32,
          "metadata": {},
          "output_type": "execute_result"
        }
      ],
      "source": [
        "WCSS"
      ]
    },
    {
      "cell_type": "markdown",
      "id": "e653a5a6",
      "metadata": {
        "id": "e653a5a6"
      },
      "source": [
        "## Build once again Model"
      ]
    },
    {
      "cell_type": "code",
      "execution_count": null,
      "id": "bdd35f35",
      "metadata": {
        "id": "bdd35f35",
        "outputId": "7f7be0df-bbc5-41e7-ce12-7a043d9ea2b1"
      },
      "outputs": [
        {
          "data": {
            "text/plain": [
              "KMeans(n_clusters=3, random_state=10)"
            ]
          },
          "execution_count": 35,
          "metadata": {},
          "output_type": "execute_result"
        }
      ],
      "source": [
        "# import kmean model\n",
        "from sklearn.cluster import KMeans\n",
        "# Initialize the model\n",
        "model=KMeans(n_clusters=3,random_state=10)\n",
        "# Train a model\n",
        "model.fit(x)"
      ]
    },
    {
      "cell_type": "code",
      "execution_count": null,
      "id": "7c374ec4",
      "metadata": {
        "id": "7c374ec4",
        "outputId": "f55d6875-6608-4da2-dd57-e0ab464695f9"
      },
      "outputs": [
        {
          "data": {
            "text/plain": [
              "0.461588416586402"
            ]
          },
          "execution_count": 36,
          "metadata": {},
          "output_type": "execute_result"
        }
      ],
      "source": [
        "silhouette_score(x,model.labels_)"
      ]
    },
    {
      "cell_type": "code",
      "execution_count": null,
      "id": "a4dfcce0",
      "metadata": {
        "id": "a4dfcce0",
        "outputId": "659c5abc-f54d-492c-e52c-5efa9d33d978"
      },
      "outputs": [
        {
          "data": {
            "text/plain": [
              "<matplotlib.collections.PathCollection at 0x1ab6203ffd0>"
            ]
          },
          "execution_count": 37,
          "metadata": {},
          "output_type": "execute_result"
        },
        {
          "data": {
            "image/png": "[encoded data removed]",
            "text/plain": [
              "<Figure size 640x480 with 1 Axes>"
            ]
          },
          "metadata": {},
          "output_type": "display_data"
        }
      ],
      "source": [
        "# visualize the clusters created by model\n",
        "color_schema=np.array(['red','green','black','orange','blue','pink'])\n",
        "plt.scatter(data.petal_length,data.petal_width,color=color_schema[model.labels_])"
      ]
    },
    {
      "cell_type": "code",
      "execution_count": null,
      "id": "d2e51d92",
      "metadata": {
        "id": "d2e51d92"
      },
      "outputs": [],
      "source": []
    },
    {
      "cell_type": "code",
      "execution_count": null,
      "id": "fed1e97f",
      "metadata": {
        "id": "fed1e97f"
      },
      "outputs": [],
      "source": []
    },
    {
      "cell_type": "code",
      "execution_count": null,
      "id": "5c428e7a",
      "metadata": {
        "id": "5c428e7a"
      },
      "outputs": [],
      "source": []
    },
    {
      "cell_type": "code",
      "execution_count": null,
      "id": "a365c75a",
      "metadata": {
        "id": "a365c75a"
      },
      "outputs": [],
      "source": []
    },
    {
      "cell_type": "code",
      "execution_count": null,
      "id": "a02360b5",
      "metadata": {
        "id": "a02360b5"
      },
      "outputs": [],
      "source": []
    },
    {
      "cell_type": "code",
      "execution_count": null,
      "id": "ebf97a98",
      "metadata": {
        "id": "ebf97a98"
      },
      "outputs": [],
      "source": []
    },
    {
      "cell_type": "code",
      "execution_count": null,
      "id": "fd6bd627",
      "metadata": {
        "id": "fd6bd627"
      },
      "outputs": [],
      "source": []
    },
    {
      "cell_type": "code",
      "execution_count": null,
      "id": "13e8c68b",
      "metadata": {
        "id": "13e8c68b"
      },
      "outputs": [],
      "source": []
    },
    {
      "cell_type": "code",
      "execution_count": null,
      "id": "ae54ae8f",
      "metadata": {
        "id": "ae54ae8f"
      },
      "outputs": [],
      "source": []
    }
  ],
  "metadata": {
    "kernelspec": {
      "display_name": "Python 3 (ipykernel)",
      "language": "python",
      "name": "python3"
    },
    "language_info": {
      "codemirror_mode": {
        "name": "ipython",
        "version": 3
      },
      "file_extension": ".py",
      "mimetype": "text/x-python",
      "name": "python",
      "nbconvert_exporter": "python",
      "pygments_lexer": "ipython3",
      "version": "3.9.13"
    },
    "colab": {
      "provenance": [],
      "include_colab_link": true
    }
  },
  "nbformat": 4,
  "nbformat_minor": 5
}